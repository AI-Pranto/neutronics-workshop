{
 "cells": [
  {
   "cell_type": "markdown",
   "id": "4b581989-47fb-401b-a8c8-ad97746670d5",
   "metadata": {},
   "source": [
    "This example simulates the variation of a tally responce as a function of time. This particular tally is the tritium breeding ratio and this tends to decrease over time as the lithium gets burnt up by neutron irradiation"
   ]
  },
  {
   "cell_type": "code",
   "execution_count": null,
   "id": "9f65541a-65d9-423b-99f4-aa21f6e6b017",
   "metadata": {},
   "outputs": [],
   "source": [
    "import openmc\n",
    "import openmc.deplete\n",
    "import matplotlib.pyplot as plt\n",
    "import math\n",
    "\n",
    "lithium_orthosilicate_radius = 250\n",
    "\n",
    "# MATERIALS\n",
    "\n",
    "mats = openmc.Materials()\n",
    "\n",
    "# makes a simple material from Iron\n",
    "breeding_material = openmc.Material(name=\"breeding_material\") \n",
    "breeding_material.add_elements_from_formula('Li4SiO4')\n",
    "breeding_material.set_density('g/cm3', 2.5)\n",
    "breeding_material.volume = (4/3) * math.pi * lithium_orthosilicate_radius**3\n",
    "breeding_material.depletable = True\n",
    "\n",
    "materials = openmc.Materials([breeding_material])\n",
    "materials.export_to_xml()\n",
    "\n",
    "\n",
    "# GEOMETRY\n",
    "\n",
    "# surfaces\n",
    "sph1 = openmc.Sphere(r=lithium_orthosilicate_radius, boundary_type='vacuum')\n",
    "\n",
    "# cells\n",
    "shield_cell = openmc.Cell(region=-sph1)\n",
    "shield_cell.fill = breeding_material\n",
    "shield_cell.volume = (4/3) * math.pi * sph1.r**3\n",
    "\n",
    "universe = openmc.Universe(cells=[shield_cell])\n",
    "geometry = openmc.Geometry(universe)"
   ]
  },
  {
   "cell_type": "markdown",
   "id": "f4071ae5-ae09-4f3d-a294-0f0aa126d0f4",
   "metadata": {},
   "source": [
    "This section defines the neutron source term to use and the settings"
   ]
  },
  {
   "cell_type": "code",
   "execution_count": null,
   "id": "9c4c1b2c-1719-4e43-acf7-a4cd433f84e7",
   "metadata": {},
   "outputs": [],
   "source": [
    "# creates a 14MeV neutron point source\n",
    "source = openmc.Source()\n",
    "source.space = openmc.stats.Point((0, 0, 0))\n",
    "source.angle = openmc.stats.Isotropic()\n",
    "source.energy = openmc.stats.Discrete([14e6], [1])\n",
    "source.particles = 'neutron'\n",
    "\n",
    "# SETTINGS\n",
    "\n",
    "# Instantiate a Settings object\n",
    "settings = openmc.Settings()\n",
    "settings.batches = 2\n",
    "settings.inactive = 0\n",
    "settings.particles = 500\n",
    "settings.source = source\n",
    "settings.run_mode = 'fixed source'\n",
    "\n",
    "\n",
    "tallies = openmc.Tallies()\n",
    "\n",
    "# added a cell tally for tritium production\n",
    "cell_filter = openmc.CellFilter(shield_cell)\n",
    "tbr_tally = openmc.Tally(name='TBR')\n",
    "tbr_tally.filters = [cell_filter]\n",
    "tbr_tally.scores = ['(n,Xt)']  # Where X is a wildcard character, this catches any tritium production\n",
    "tallies.append(tbr_tally)\n",
    "\n",
    "geometry.export_to_xml()\n",
    "settings.export_to_xml()\n",
    "tallies.export_to_xml()\n",
    "materials.export_to_xml()\n",
    "model = openmc.model.Model(geometry, materials, settings, tallies)"
   ]
  },
  {
   "cell_type": "markdown",
   "id": "7129ed95-8268-4484-9df5-a93e83ad3268",
   "metadata": {},
   "source": [
    "This is the depltion specific part of the model setup.\n",
    "Here we:\n",
    "\n",
    "    specify the chain file, this tells openmc the decay paths between isotopes including proabilities of different routes and half lives\n",
    "    \n",
    "    set the time steps and corresponding source rates "
   ]
  },
  {
   "cell_type": "code",
   "execution_count": null,
   "id": "ff40774e-ab4e-4de1-8ef1-2c4ddc3d20cf",
   "metadata": {},
   "outputs": [],
   "source": [
    "# This chain_endfb71 file was made with the run python generate_endf71_chain.py from the openmc-dev/data repo\n",
    "chain_filename = 'chain_endfb71.xml'\n",
    "chain = openmc.deplete.Chain.from_xml(chain_filename)\n",
    "\n",
    "operator = openmc.deplete.Operator(model, chain_filename)\n",
    "\n",
    "time_steps = [365*24*60*60] * 5 # 5 steps of 5 years in seconds\n",
    "source_rates = [1e9]*5 # 1GW\n",
    "\n",
    "integrator = openmc.deplete.PredictorIntegrator(operator, time_steps, source_rates)\n",
    "\n",
    "integrator.integrate()"
   ]
  },
  {
   "cell_type": "markdown",
   "id": "5c81dbae-5897-4526-9120-c1cbba0c07f9",
   "metadata": {},
   "source": [
    "Access the TBR tally at each depletion time step"
   ]
  },
  {
   "cell_type": "code",
   "execution_count": null,
   "id": "1e820e57-ab13-4944-807c-fdcc8f3ba53a",
   "metadata": {},
   "outputs": [],
   "source": [
    "for counter in [0,1,2,3,4,5]:\n",
    "    sp = openmc.StatePoint(f'openmc_simulation_n{counter}.h5')\n",
    "    tbr_tally = sp.get_tally(name='TBR')\n",
    "    print(f'depletion step {counter} TBR={tbr_tally.mean.sum()}')"
   ]
  },
  {
   "cell_type": "markdown",
   "id": "5fd705f8-4bf7-419a-b528-f062262195b1",
   "metadata": {},
   "source": [
    "Certain reations are also available in the depletion results file. \n",
    "\n",
    "For example you can access the rate of n,gamma reactions at each time step"
   ]
  },
  {
   "cell_type": "code",
   "execution_count": null,
   "id": "93cf32a5-6f6a-4ef7-b631-6c64526d9ac9",
   "metadata": {},
   "outputs": [],
   "source": [
    "results = openmc.deplete.ResultsList.from_hdf5(\"depletion_results.h5\")\n",
    "\n",
    "times, number_of_n_gamma_reactions = results.get_reaction_rate(breeding_material, 'Li6', '(n,gamma)')\n",
    "number_of_n_gamma_reactions"
   ]
  }
 ],
 "metadata": {
  "kernelspec": {
   "display_name": "Python 3 (ipykernel)",
   "language": "python",
   "name": "python3"
  },
  "language_info": {
   "codemirror_mode": {
    "name": "ipython",
    "version": 3
   },
   "file_extension": ".py",
   "mimetype": "text/x-python",
   "name": "python",
   "nbconvert_exporter": "python",
   "pygments_lexer": "ipython3",
   "version": "3.8.12"
  }
 },
 "nbformat": 4,
 "nbformat_minor": 5
}
